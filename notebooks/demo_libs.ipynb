{
 "cells": [
  {
   "cell_type": "code",
   "execution_count": null,
   "id": "ebac60f1",
   "metadata": {},
   "outputs": [],
   "source": [
    "import numpy as np\n",
    "import pandas as pd\n",
    "import pandas_bokeh\n",
    "pandas_bokeh.output_notebook()\n",
    "pd.set_option('plotting.backend', 'pandas_bokeh')"
   ]
  },
  {
   "cell_type": "code",
   "execution_count": null,
   "id": "0b3aa7b7",
   "metadata": {},
   "outputs": [],
   "source": [
    "# simulate a random series\n",
    "s = pd.Series(data= (np.random.rand(200)-0.5).cumsum())\n",
    "s.plot()"
   ]
  },
  {
   "cell_type": "code",
   "execution_count": null,
   "id": "b314ffff-9e77-4a27-9aaa-733afb2f7a71",
   "metadata": {},
   "outputs": [],
   "source": [
    "# get some Yahoo finance data\n",
    "\n",
    "import yfinance as yf\n",
    "\n",
    "df = yf.download(['AAPL',\"GOOG\",\"FB\"], \n",
    "                      start='2015-01-01', \n",
    "                      #end='2021-06-12', \n",
    "                      progress=True,\n",
    ")\n",
    "df.head()"
   ]
  },
  {
   "cell_type": "code",
   "execution_count": null,
   "id": "5342e693-2947-4842-a0f0-a0b98aadcdb1",
   "metadata": {},
   "outputs": [],
   "source": [
    "df.Close.plot()"
   ]
  },
  {
   "cell_type": "code",
   "execution_count": null,
   "id": "f969fda6-ef77-4984-8dd5-8294261d181b",
   "metadata": {},
   "outputs": [],
   "source": [
    "df.Close"
   ]
  },
  {
   "cell_type": "code",
   "execution_count": null,
   "id": "d8c4a7dc-4b34-49e6-b34f-c65ed914b373",
   "metadata": {},
   "outputs": [],
   "source": [
    "ratio = df.Close.AAPL / df.Close.GOOG\n",
    "ratio.plot()"
   ]
  },
  {
   "cell_type": "code",
   "execution_count": null,
   "id": "61656337-26cc-4b64-b732-580df5826c59",
   "metadata": {},
   "outputs": [],
   "source": []
  }
 ],
 "metadata": {
  "kernelspec": {
   "display_name": "Python 3 (ipykernel)",
   "language": "python",
   "name": "python3"
  },
  "language_info": {
   "codemirror_mode": {
    "name": "ipython",
    "version": 3
   },
   "file_extension": ".py",
   "mimetype": "text/x-python",
   "name": "python",
   "nbconvert_exporter": "python",
   "pygments_lexer": "ipython3",
   "version": "3.10.4"
  }
 },
 "nbformat": 4,
 "nbformat_minor": 5
}
