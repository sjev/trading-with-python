{
 "cells": [
  {
   "cell_type": "code",
   "execution_count": 7,
   "id": "12bcd921-e0e0-4730-81f7-cf1844bb536b",
   "metadata": {},
   "outputs": [
    {
     "name": "stdout",
     "output_type": "stream",
     "text": [
      "%pylab is deprecated, use %matplotlib inline and import the required libraries.\n",
      "Populating the interactive namespace from numpy and matplotlib\n"
     ]
    }
   ],
   "source": [
    "%pylab inline"
   ]
  },
  {
   "cell_type": "code",
   "execution_count": 2,
   "id": "ab34c446-9f10-4ffb-a8bb-9b3abbc59d40",
   "metadata": {},
   "outputs": [],
   "source": [
    "import numpy as np\n",
    "import pandas as pd\n",
    "from twp.functions import logReturns"
   ]
  },
  {
   "cell_type": "code",
   "execution_count": 11,
   "id": "8ef5654d-1703-462f-a2d6-edeff74db112",
   "metadata": {},
   "outputs": [
    {
     "data": {
      "text/plain": [
       "[<matplotlib.lines.Line2D at 0x7f49ec0730>]"
      ]
     },
     "execution_count": 11,
     "metadata": {},
     "output_type": "execute_result"
    },
    {
     "data": {
      "image/png": "[encoded data removed]",
      "text/plain": [
       "<Figure size 432x288 with 1 Axes>"
      ]
     },
     "metadata": {
      "needs_background": "light"
     },
     "output_type": "display_data"
    }
   ],
   "source": [
    "ret_pct = pd.Series(np.ones(100)*1.01)\n",
    "ret_pct[0] = 1\n",
    "s = pd.Series(100 * np.cumprod(ret_pct))\n",
    "plt.plot(s)\n"
   ]
  },
  {
   "cell_type": "code",
   "execution_count": 9,
   "id": "4ae1317e-aed1-494a-b8b1-1396da2308e8",
   "metadata": {},
   "outputs": [
    {
     "data": {
      "text/plain": [
       "0         NaN\n",
       "1     0.00995\n",
       "2     0.00995\n",
       "3     0.00995\n",
       "4     0.00995\n",
       "       ...   \n",
       "95    0.00995\n",
       "96    0.00995\n",
       "97    0.00995\n",
       "98    0.00995\n",
       "99    0.00995\n",
       "Length: 100, dtype: float64"
      ]
     },
     "execution_count": 9,
     "metadata": {},
     "output_type": "execute_result"
    }
   ],
   "source": [
    "\n",
    "ret_log = logReturns(s)\n",
    "ret_log"
   ]
  },
  {
   "cell_type": "code",
   "execution_count": 16,
   "id": "866782df-dbc9-4760-9d19-e6228d0920d9",
   "metadata": {},
   "outputs": [
    {
     "data": {
      "text/plain": [
       "2.678033494476761"
      ]
     },
     "execution_count": 16,
     "metadata": {},
     "output_type": "execute_result"
    }
   ],
   "source": [
    "np.exp(ret_log.sum())"
   ]
  },
  {
   "cell_type": "code",
   "execution_count": 17,
   "id": "1d974946-1a5e-4a92-9e23-1de69272abbe",
   "metadata": {},
   "outputs": [
    {
     "data": {
      "text/plain": [
       "0     1.000000\n",
       "1     1.010000\n",
       "2     1.020100\n",
       "3     1.030301\n",
       "4     1.040604\n",
       "        ...   \n",
       "95    2.573538\n",
       "96    2.599273\n",
       "97    2.625266\n",
       "98    2.651518\n",
       "99    2.678033\n",
       "Length: 100, dtype: float64"
      ]
     },
     "execution_count": 17,
     "metadata": {},
     "output_type": "execute_result"
    }
   ],
   "source": [
    "ret_pct.cumprod()"
   ]
  },
  {
   "cell_type": "code",
   "execution_count": null,
   "id": "5928e019-ed85-4276-b6b4-f1c925ad9d37",
   "metadata": {},
   "outputs": [],
   "source": []
  }
 ],
 "metadata": {
  "kernelspec": {
   "display_name": "Python 3 (ipykernel)",
   "language": "python",
   "name": "python3"
  },
  "language_info": {
   "codemirror_mode": {
    "name": "ipython",
    "version": 3
   },
   "file_extension": ".py",
   "mimetype": "text/x-python",
   "name": "python",
   "nbconvert_exporter": "python",
   "pygments_lexer": "ipython3",
   "version": "3.10.4"
  }
 },
 "nbformat": 4,
 "nbformat_minor": 5
}
